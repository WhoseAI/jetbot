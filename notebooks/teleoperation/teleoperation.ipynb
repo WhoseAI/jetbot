{
 "cells": [
  {
   "cell_type": "markdown",
   "metadata": {},
   "source": [
    "# 遥感远程控制\n",
    "在本例中，我们将使用连接到web浏览器机器的gamepad控制器远程控制Jetbot"
   ]
  },
  {
   "cell_type": "markdown",
   "metadata": {},
   "source": [
    "### 创建游戏板控制器\n",
    "\n",
    "我们要做的第一件事是创建一个 ``Controller`` 小部件的实例，我们将使用它来控制小车。\n",
    "\n",
    "``Controller`` 小部件采用 ``index`` 参数来指定控制器的编号。如果连接多个控制器或者一些游戏板 *显示* 为多个控制器的时候，透过index确认使用的控制器会非常有用。\n",
    "1. 访问[http://html5gamepad.com](http://html5gamepad.com) 。\n",
    "2. 按下你正在使用的gamepad的按钮\n",
    "3. 记住对按钮按下做出响应的游戏板的“索引”\n",
    "\n",
    "接下来，我们将使用该索引创建并显示控制器。"
   ]
  },
  {
   "cell_type": "code",
   "execution_count": null,
   "metadata": {},
   "outputs": [],
   "source": [
    "import ipywidgets.widgets as widgets\n",
    "\n",
    "controller = widgets.Controller(index=1)  # replace with index of your controller\n",
    "\n",
    "display(controller)"
   ]
  },
  {
   "cell_type": "markdown",
   "metadata": {},
   "source": [
    "即使索引正确，您也可能看到文本 ``Connect gamepad and press any button``。那是因为游戏板还没在这个Notebook进行注册。\n",
    "按下一个按钮，你就会看到上面出现的gamepad小部件。"
   ]
  },
  {
   "cell_type": "markdown",
   "metadata": {},
   "source": [
    "### Connect gamepad controller to robot motors\n",
    "\n",
    "Now, even though we've connected our gamepad, we haven't yet attached the controls to our robot!  The first, and most simple control\n",
    "we want to attach is the motor control.  We'll connect that to the left and right vertical axes using the ``dlink`` function.  The\n",
    "``dlink`` function, unlike the ``link`` function, allows us to attach a transform between the ``source`` and ``target``.  Because\n",
    "the controller axes are flipped from what we think is intuitive for the motor control, we'll use a small *lambda* function to\n",
    "negate the value.\n",
    "\n",
    "> WARNING: This next cell will move the robot if you touch the gamepad controller axes!\n",
    "\n",
    "### 将gamepad控制器连接到机器人电机\n",
    "\n",
    "现在，尽管我们已经连接了游戏板，但我们还没有将控件连接到我们的小车上！第一个，也是最简单的控制，我们要连接的是马达控制。\n",
    "这里使用 ``dlink`` 函数将其连接到左右垂直轴。这个 ``dlink`` 函数不同于``link`` 函数，它允许我们在 ``source`` 和 ``target``之间附加一个转换。\n",
    "因为控制器轴从我们认为对电机控制直观的地方翻转过来，我们将使用一个小的 *lambda* 函数来倒转正负值。\n",
    "\n",
    ">警告：如果您触摸游戏板控制器轴，下一个单元将移小车！"
   ]
  },
  {
   "cell_type": "code",
   "execution_count": null,
   "metadata": {},
   "outputs": [],
   "source": [
    "from jetbot import Robot\n",
    "import traitlets\n",
    "\n",
    "robot = Robot()\n",
    "\n",
    "left_link = traitlets.dlink((controller.axes[1], 'value'), (robot.left_motor, 'value'), transform=lambda x: -x)\n",
    "right_link = traitlets.dlink((controller.axes[3], 'value'), (robot.right_motor, 'value'), transform=lambda x: -x)"
   ]
  },
  {
   "cell_type": "markdown",
   "metadata": {},
   "source": [
    "令人惊叹的！小车现在应该对gamepad控制器的动作做出响应。现在从摄像机上观看视频直播！"
   ]
  },
  {
   "cell_type": "markdown",
   "metadata": {},
   "source": [
    "### 创建和显示图像小部件\n",
    "\n",
    "首先，让我们显示一个 ``Image`` 小部件，使用它来显示实时相机提要。将 ``hight`` 和 ``width`` 都设置为 300，不会占用太多空间。\n",
    ">仅供参考：高度和宽度仅影响浏览器端的渲染，而不影响从robot到浏览器的网络传输之前的本机图像分辨率。"
   ]
  },
  {
   "cell_type": "code",
   "execution_count": null,
   "metadata": {},
   "outputs": [],
   "source": [
    "image = widgets.Image(format='jpeg', width=300, height=300)\n",
    "display(image)"
   ]
  },
  {
   "cell_type": "markdown",
   "metadata": {},
   "source": [
    "### 创建摄影机实例\n",
    "好吧，现在没有图像显示，因为我们还没有设置值！只要创建 ``Camera``类并将 ``value`` 属性附加到图像的“value”属性即可！\n",
    "\n",
    "首先，创建camera实例，我们调用 ``instance`` 方法来创建一个新的 camera，如果它还没有被创造出来。如果已经存在，此方法将返回现有的相机。"
   ]
  },
  {
   "cell_type": "code",
   "execution_count": null,
   "metadata": {},
   "outputs": [],
   "source": [
    "from jetbot import Camera\n",
    "camera = Camera.instance()"
   ]
  },
  {
   "cell_type": "markdown",
   "metadata": {},
   "source": [
    "### 将相机连接到图像小部件\n",
    "Camera类目前只生成BGR8（蓝色、绿色、红色、8bit）格式的值，而图像小部件接受压缩的 *JPEG* 格式的值。\n",
    "要将相机连接到图像，我们需要在链接中插入 ``bgr8-To-jpeg`` 函数作为转换，如下面步骤"
   ]
  },
  {
   "cell_type": "code",
   "execution_count": null,
   "metadata": {},
   "outputs": [],
   "source": [
    "from jetbot import bgr8_to_jpeg\n",
    "camera_link = traitlets.dlink((camera, 'value'), (image, 'value'), transform=bgr8_to_jpeg)"
   ]
  },
  {
   "cell_type": "markdown",
   "metadata": {},
   "source": [
    "现在您应该看到上面显示的实时视频源了！\n",
    "> 提醒：可以右键单击单元格的输出，然后选择``Create New View for Output``创建新视图”，将单元格显示在单独的窗口中。"
   ]
  },
  {
   "cell_type": "markdown",
   "metadata": {},
   "source": [
    "### 如果网络断开，则停止robot\n",
    "\n",
    "你可以通过视频来驱动你的小车。但如果你的小车与Wifi断开连接呢？好吧，马达会继续移动，它会继续尝试传输视频和马达指令。\n",
    "\n",
    "让我们做点事，以便在发生断开WIFI连接时停止小车并断开摄像机和电机的连接。"
   ]
  },
  {
   "cell_type": "code",
   "execution_count": null,
   "metadata": {},
   "outputs": [],
   "source": [
    "from jetbot import Heartbeat\n",
    "\n",
    "def handle_heartbeat_status(change):\n",
    "    if change['new'] == Heartbeat.Status.dead:\n",
    "        camera_link.unlink()\n",
    "        left_link.unlink()\n",
    "        right_link.unlink()\n",
    "        robot.stop()\n",
    "\n",
    "heartbeat = Heartbeat(period=0.5)\n",
    "# 将回调函数附加到心跳状态\n",
    "heartbeat.observe(handle_heartbeat_status, names='status')"
   ]
  },
  {
   "cell_type": "markdown",
   "metadata": {},
   "source": [
    "如果小车与WIFI断开连接，你会注意到它停止了。然后，您可以通过重新创建与下面单元格的链接来重新连接相机和马达"
   ]
  },
  {
   "cell_type": "code",
   "execution_count": null,
   "metadata": {},
   "outputs": [],
   "source": [
    "# 只有当你的机器人链接未链接时才调用这个，否则我们将有多余的链接，这将使传输的命令加倍\n",
    "\n",
    "left_link = traitlets.dlink((controller.axes[1], 'value'), (robot.left_motor, 'value'), transform=lambda x: -x)\n",
    "right_link = traitlets.dlink((controller.axes[3], 'value'), (robot.right_motor, 'value'), transform=lambda x: -x)\n",
    "camera_link = traitlets.dlink((camera, 'value'), (image, 'value'), transform=bgr8_to_jpeg)"
   ]
  },
  {
   "cell_type": "markdown",
   "metadata": {},
   "source": [
    "### 使用gamepad按钮保存快照\n",
    "现在，我们希望能够保存一些来自我们机器人的图像。让我们这样做，以便右保险杠（索引5）保存当前实时图像的快照。我们将把这些图像保存在 ``snapshots/`` 目录中，使用 ``uuid`` python包保证名称是唯一的。我们使用 ``uuid1`` 标识符，因为它还对日期和MAC地址进行了编码，我们以后可能会用到它。"
   ]
  },
  {
   "cell_type": "code",
   "execution_count": null,
   "metadata": {},
   "outputs": [],
   "source": [
    "import uuid\n",
    "import subprocess\n",
    "\n",
    "subprocess.call(['mkdir', '-p', 'snapshots'])\n",
    "\n",
    "snapshot_image = widgets.Image(format='jpeg', width=300, height=300)\n",
    "\n",
    "def save_snapshot(change):\n",
    "    # save snapshot when button is pressed down\n",
    "    if change['new']:\n",
    "        file_path = 'snapshots/' + str(uuid.uuid1()) + '.jpg'\n",
    "        \n",
    "        # write snapshot to file (we use image value instead of camera because it's already in JPEG format)\n",
    "        with open(file_path, 'wb') as f:\n",
    "            f.write(image.value)\n",
    "            \n",
    "        # display snapshot that was saved\n",
    "        snapshot_image.value = image.value\n",
    "\n",
    "\n",
    "controller.buttons[5].observe(save_snapshot, names='value')\n",
    "\n",
    "display(widgets.HBox([image, snapshot_image]))\n",
    "display(controller)"
   ]
  },
  {
   "cell_type": "markdown",
   "metadata": {},
   "source": [
    "### Conclusion\n",
    "\n",
    "That's it for this example, have fun!"
   ]
  }
 ],
 "metadata": {
  "kernelspec": {
   "display_name": "Python 3",
   "language": "python",
   "name": "python3"
  },
  "language_info": {
   "codemirror_mode": {
    "name": "ipython",
    "version": 3
   },
   "file_extension": ".py",
   "mimetype": "text/x-python",
   "name": "python",
   "nbconvert_exporter": "python",
   "pygments_lexer": "ipython3",
   "version": "3.7.4"
  }
 },
 "nbformat": 4,
 "nbformat_minor": 4
}
