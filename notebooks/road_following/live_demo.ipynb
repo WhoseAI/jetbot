{
 "cells": [
  {
   "cell_type": "markdown",
   "metadata": {},
   "source": [
    "# Road Following - Live demo\n",
    "在这个笔记本中，我们将使用我们训练的模型，使Jetbot在轨道上平稳地移动。\n",
    "\n",
    "### Load Trained Model\n",
    "假设您已经按照“train_model.ipynb”笔记本中的说明将 ``best_steering_model_xy.pth`` 下载到工作站。现在，您应该将模型文件上传到JetBot的笔记本目录中。完成后，该笔记本的目录中应该有一个名为 ``best_steering_model_xy.pth`` 文件。\n",
    "> 在调用下一个单元格之前，请确保文件已完全上载\n",
    "执行下面的代码来初始化PyTorch模型。从培训笔记本上看，这应该很熟悉。执行下面的代码来初始化PyTorch模型。从培训笔记本上看，这应该很熟悉。"
   ]
  },
  {
   "cell_type": "code",
   "execution_count": null,
   "metadata": {},
   "outputs": [],
   "source": [
    "import torchvision\n",
    "import torch\n",
    "\n",
    "model = torchvision.models.resnet18(pretrained=False)\n",
    "model.fc = torch.nn.Linear(512, 2)"
   ]
  },
  {
   "cell_type": "markdown",
   "metadata": {},
   "source": [
    "接下来，从上传的 ``best_steering_model_xy.pth`` 文件中加载训练过的权重。"
   ]
  },
  {
   "cell_type": "code",
   "execution_count": null,
   "metadata": {},
   "outputs": [],
   "source": [
    "model.load_state_dict(torch.load('best_steering_model_xy.pth'))"
   ]
  },
  {
   "cell_type": "markdown",
   "metadata": {},
   "source": [
    "目前，模型权重位于CPU内存上，执行下面的代码传输到GPU设备。"
   ]
  },
  {
   "cell_type": "code",
   "execution_count": null,
   "metadata": {},
   "outputs": [],
   "source": [
    "device = torch.device('cuda')\n",
    "model = model.to(device)\n",
    "model = model.eval().half()"
   ]
  },
  {
   "cell_type": "markdown",
   "metadata": {},
   "source": [
    "### Creating the Pre-Processing Function\n",
    "### 创建预处理功能\n",
    "现在已经加载模型，但有一个小问题。我们训练模型的格式与相机的格式不完全匹配。为此，我们需要做一些预处理。这包括以下步骤：\n",
    "1. 从HWC布局转换为CHW布局\n",
    "2. 使用与训练期间相同的参数进行规格化（相机提供[0，255]范围值和[0，1]范围的训练加载图像，因此我们需要缩放255.0\n",
    "3. 将数据从CPU存储器传输到GPU存储器\n",
    "4. 添加批次维度"
   ]
  },
  {
   "cell_type": "code",
   "execution_count": null,
   "metadata": {},
   "outputs": [],
   "source": [
    "import torchvision.transforms as transforms\n",
    "import torch.nn.functional as F\n",
    "import cv2\n",
    "import PIL.Image\n",
    "import numpy as np\n",
    "\n",
    "mean = torch.Tensor([0.485, 0.456, 0.406]).cuda().half()\n",
    "std = torch.Tensor([0.229, 0.224, 0.225]).cuda().half()\n",
    "\n",
    "def preprocess(image):\n",
    "    image = PIL.Image.fromarray(image)\n",
    "    image = transforms.functional.to_tensor(image).to(device).half()\n",
    "    image.sub_(mean[:, None, None]).div_(std[:, None, None])\n",
    "    return image[None, ...]"
   ]
  },
  {
   "cell_type": "markdown",
   "metadata": {},
   "source": [
    "令人惊叹的！我们现在已经定义了我们的预处理函数，它可以将图像从摄像机格式转换为神经网络输入格式。\n",
    "现在，让我们开始展示我们的相机。你现在应该已经很熟悉了。"
   ]
  },
  {
   "cell_type": "code",
   "execution_count": null,
   "metadata": {},
   "outputs": [],
   "source": [
    "from IPython.display import display\n",
    "import ipywidgets\n",
    "import traitlets\n",
    "from jetbot import Camera, bgr8_to_jpeg\n",
    "\n",
    "camera = Camera()\n",
    "\n",
    "image_widget = ipywidgets.Image()\n",
    "\n",
    "traitlets.dlink((camera, 'value'), (image_widget, 'value'), transform=bgr8_to_jpeg)\n",
    "\n",
    "display(image_widget)"
   ]
  },
  {
   "cell_type": "markdown",
   "metadata": {},
   "source": [
    "我们还将创建我们的机器人实例，我们将需要驱动马达。"
   ]
  },
  {
   "cell_type": "code",
   "execution_count": null,
   "metadata": {},
   "outputs": [],
   "source": [
    "from jetbot import Robot\n",
    "\n",
    "robot = Robot()"
   ]
  },
  {
   "cell_type": "markdown",
   "metadata": {},
   "source": [
    "现在，我们将定义滑块来控制JetBot\n",
    ">注意：我们已经初始化已知配置的滑块值，但是这些值可能不适用于您的数据集，因此请根据您的设置和环境增加或减少滑块\n",
    "\n",
    "1. 速度控制（speed_gain_slider）：启动JetBot增加 ``speed_gain_slider`` `\n",
    "2. 转向增益控制（steering_gain_sloder）：如果你看到Jetbot抖动，你需要减小``steering_gain_slider`` 直到它平滑\n",
    "3. 转向偏压控制（steering_bias_slider）：如果您看到JetBot偏向轨迹的最右侧或最左侧，则应控制此滑块，直到JetBot开始沿着中心的直线或轨迹移动。这就解释了运动偏差和相机偏移\n",
    "\n",
    ">注意：您应该在上述滑块周围以较低的速度播放，以获得平滑的JetBot道路跟随行为。"
   ]
  },
  {
   "cell_type": "code",
   "execution_count": null,
   "metadata": {},
   "outputs": [],
   "source": [
    "speed_gain_slider = ipywidgets.FloatSlider(min=0.0, max=1.0, step=0.01, description='speed gain')\n",
    "steering_gain_slider = ipywidgets.FloatSlider(min=0.0, max=1.0, step=0.01, value=0.2, description='steering gain')\n",
    "steering_dgain_slider = ipywidgets.FloatSlider(min=0.0, max=0.5, step=0.001, value=0.0, description='steering kd')\n",
    "steering_bias_slider = ipywidgets.FloatSlider(min=-0.3, max=0.3, step=0.01, value=0.0, description='steering bias')\n",
    "\n",
    "display(speed_gain_slider, steering_gain_slider, steering_dgain_slider, steering_bias_slider)"
   ]
  },
  {
   "cell_type": "markdown",
   "metadata": {},
   "source": [
    "接下来，让我们展示一些滑块，看看JetBot在想什么。x和y滑块将显示预测的x、y值。\n",
    "\n",
    "转向滑块将显示我们估计的转向值。请记住，这个值不是目标的实际角度，而是几乎成比例。当实际角度为 ``0`` 时，该值为零，并随实际角度增加/减少。"
   ]
  },
  {
   "cell_type": "code",
   "execution_count": null,
   "metadata": {},
   "outputs": [],
   "source": [
    "x_slider = ipywidgets.FloatSlider(min=-1.0, max=1.0, description='x')\n",
    "y_slider = ipywidgets.FloatSlider(min=0, max=1.0, orientation='vertical', description='y')\n",
    "steering_slider = ipywidgets.FloatSlider(min=-1.0, max=1.0, description='steering')\n",
    "speed_slider = ipywidgets.FloatSlider(min=0, max=1.0, orientation='vertical', description='speed')\n",
    "\n",
    "display(ipywidgets.HBox([y_slider, speed_slider]))\n",
    "display(x_slider, steering_slider)"
   ]
  },
  {
   "cell_type": "markdown",
   "metadata": {},
   "source": [
    "接下来，我们将创建一个函数，每当相机的值发生变化时，该函数将被调用。此函数将执行以下步骤\n",
    "1. 预处理摄像机图像\n",
    "2. 执行神经网络\n",
    "3. 计算近似转向值\n",
    "4. 使用比例/微分控制（PD）控制电机"
   ]
  },
  {
   "cell_type": "code",
   "execution_count": null,
   "metadata": {},
   "outputs": [],
   "source": [
    "angle = 0.0\n",
    "angle_last = 0.0\n",
    "\n",
    "def execute(change):\n",
    "    global angle, angle_last\n",
    "    image = change['new']\n",
    "    xy = model(preprocess(image)).detach().float().cpu().numpy().flatten()\n",
    "    x = xy[0]\n",
    "    y = (0.5 - xy[1]) / 2.0\n",
    "    \n",
    "    x_slider.value = x\n",
    "    y_slider.value = y\n",
    "    \n",
    "    speed_slider.value = speed_gain_slider.value\n",
    "    \n",
    "    angle = np.arctan2(x, y)\n",
    "    pid = angle * steering_gain_slider.value + (angle - angle_last) * steering_dgain_slider.value\n",
    "    angle_last = angle\n",
    "    \n",
    "    steering_slider.value = pid + steering_bias_slider.value\n",
    "    \n",
    "    robot.left_motor.value = max(min(speed_slider.value + steering_slider.value, 1.0), 0.0)\n",
    "    robot.right_motor.value = max(min(speed_slider.value - steering_slider.value, 1.0), 0.0)\n",
    "    \n",
    "execute({'new': camera.value})"
   ]
  },
  {
   "cell_type": "markdown",
   "metadata": {},
   "source": [
    "太酷了！我们已经创建神经网络执行函数，现在需要将它附加到相机上进行处理。\n",
    "\n",
    "我们通过 observe功能来实现这一点。\n",
    ">警告：此代码将移动机器人！！请确保您的机器人有净空，并且它在乐高或轨道上，您已经收集了数据。道路跟随者应该可以工作，但是神经网络只和它训练的数据一样好！"
   ]
  },
  {
   "cell_type": "code",
   "execution_count": null,
   "metadata": {},
   "outputs": [],
   "source": [
    "camera.observe(execute, names='value')"
   ]
  },
  {
   "cell_type": "markdown",
   "metadata": {},
   "source": [
    "令人惊叹的！如果你的小车已经接入，现在应该会在每一个新的相机帧上产生新的命令。\n",
    "\n",
    "你现在可以把JetBot放在乐高或者你收集到数据的轨道上，看看它是否可以跟踪轨道。\n",
    "\n",
    "如果要停止此行为，可以通过执行下面的代码取消附加此回调。"
   ]
  },
  {
   "cell_type": "code",
   "execution_count": null,
   "metadata": {},
   "outputs": [],
   "source": [
    "camera.unobserve(execute, names='value')\n",
    "robot.stop()"
   ]
  },
  {
   "cell_type": "markdown",
   "metadata": {},
   "source": [
    "### 结论\n",
    "这就是现场演示！希望你在看到你的Jetbot在赛道上沿着公路平稳地移动时玩得开心！!!\n",
    "\n",
    "如果你的Jetbot跟不上路，试着找出它失败的地方。好处是我们可以为这些故障场景收集更多的数据，JetBot应该会变得更好：）"
   ]
  },
  {
   "cell_type": "code",
   "execution_count": null,
   "metadata": {},
   "outputs": [],
   "source": []
  }
 ],
 "metadata": {
  "kernelspec": {
   "display_name": "Python 3",
   "language": "python",
   "name": "python3"
  },
  "language_info": {
   "codemirror_mode": {
    "name": "ipython",
    "version": 3
   },
   "file_extension": ".py",
   "mimetype": "text/x-python",
   "name": "python",
   "nbconvert_exporter": "python",
   "pygments_lexer": "ipython3",
   "version": "3.7.4"
  }
 },
 "nbformat": 4,
 "nbformat_minor": 4
}
