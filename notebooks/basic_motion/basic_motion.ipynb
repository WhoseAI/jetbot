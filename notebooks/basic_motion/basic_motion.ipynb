{
 "cells": [
  {
   "cell_type": "markdown",
   "metadata": {},
   "source": [
    "# Basic Motion\n",
    "\n",
    "欢迎使用JetBot基于浏览器的编程界面！此文档称为Jupyter笔记本，它将文本、代码和图形显示结合在一起！\n",
    "漂亮整洁，嗯？如果您不熟悉Jupyter，我们建议单击顶部工具栏中的“帮助”下拉菜单。\n",
    "这对使用Jupyter编程有很有用的参考。\n",
    "\n",
    "在本Notebook中，我们将介绍控制JetBot的基本知识。\n",
    "\n",
    "### 导入 Robot class\n",
    "\n",
    "要开始编程JetBot，我们需要导入“Robot”类.\n",
    "这个包含在``jetbot``套件里的class，能让我们能很容易地控制机器人的电机。\n",
    "\n",
    "> 如果你是 Python 新手，这个 *套件（package）* 实际上就是一个包含代码文档（code files）的目录\n",
    "> 这些代码文档被称作 *模组（modules）*.\n",
    "\n",
    "导入``Robot`` class后，会凸显（highlight）下面的单元格（cell），\n",
    "然后按下``ctrl + enter`` 或上方的``play``图标，就能执行单元格里面的代码。\n"
   ]
  },
  {
   "cell_type": "code",
   "execution_count": null,
   "metadata": {},
   "outputs": [],
   "source": [
    "from jetbot import Robot"
   ]
  },
  {
   "cell_type": "markdown",
   "metadata": {},
   "source": [
    "现在我们已经载入``Robot``类，接着可以执行下一步来启动这个类的*实例（instance）*。"
   ]
  },
  {
   "cell_type": "code",
   "execution_count": null,
   "metadata": {},
   "outputs": [],
   "source": [
    "robot = Robot()"
   ]
  },
  {
   "cell_type": "markdown",
   "metadata": {},
   "source": [
    "### 开始指挥小车"
   ]
  },
  {
   "cell_type": "markdown",
   "metadata": {},
   "source": [
    "现在我们已经建立名为 \"robot\" 的 ``Robot``实例，接着就可以使用这个实例来控制小车。\n",
    "现在准备执行下一步骤，让小车以全速的30%速度进行逆时针旋转，\n",
    "\n",
    "> 注意: 下一个指令会让小车开始移动，请确保有足够空间！"
   ]
  },
  {
   "cell_type": "code",
   "execution_count": null,
   "metadata": {},
   "outputs": [],
   "source": [
    "robot.left(speed=0.3)"
   ]
  },
  {
   "cell_type": "markdown",
   "metadata": {},
   "source": [
    "酷吧！ 看到小车逆时针旋转了！\n",
    "\n",
    "> 如果你的小车没有正确转动的话，表示轮子上的电机可能有错误的接线! 请关闭电源，然后调整电机的接线！\n",
    "> \n",
    "> 记住：始终小心检查接线，并且别在开机状态下更换接线！\n",
    "\n",
    "好了，接着要使用``stop``方法（method）来让小车停止动作。"
   ]
  },
  {
   "cell_type": "code",
   "execution_count": null,
   "metadata": {},
   "outputs": [],
   "source": [
    "robot.stop()"
   ]
  },
  {
   "cell_type": "markdown",
   "metadata": {},
   "source": [
    "有时，我们只需要让小车执行某个时间段的动作，这时候我们就需要 Python 的``time`` 套件（package）。"
   ]
  },
  {
   "cell_type": "code",
   "execution_count": null,
   "metadata": {},
   "outputs": [],
   "source": [
    "import time"
   ]
  },
  {
   "cell_type": "markdown",
   "metadata": {},
   "source": [
    "这个套件提供一个 ``sleep`` 功能, 能让代码执行以秒为单位的特定时间段，然后再继续执行下一个指令。\n",
    "试试下一段组合指令，让小车向左转 0.5 秒！"
   ]
  },
  {
   "cell_type": "code",
   "execution_count": null,
   "metadata": {},
   "outputs": [],
   "source": [
    "robot.left(0.3)\n",
    "time.sleep(0.5)\n",
    "robot.stop()"
   ]
  },
  {
   "cell_type": "markdown",
   "metadata": {},
   "source": [
    "很棒！ 你会看到小车向左转了一会儿，然后停止。 \n",
    "\n",
    "> 想知道在 ``left`` 方法（method）里面的 ``speed=`` 是做什么用的吗？ Python allows \n",
    "> Python 允许我们根据函数参数的名称或定义顺序（不指定名称）来设置函数参数\n",
    "\n",
    "在 ``BasicJetbot`` 类中还有 ``right``, ``forward``, and ``backwards`` 这些方法. \n",
    "试试自己建立命令格，让小车以50%速度向前移动一秒钟。\n",
    "\n",
    "建立新的命令格，只要在现在执行的格子上按下``b键`` 或顶端的 ``+`` 图标，执行后就可以在格子里输入让小车以50%速度向前移动一秒的代码。"
   ]
  },
  {
   "cell_type": "markdown",
   "metadata": {},
   "source": [
    "### 个别控制电机\n",
    "\n",
    "上面我们看到了如何使用``left``、``right``这些命令来控制小车，但是如果我们想个别设置每个电机的速度呢？\n",
    "这里提供两种方法可以实现你的目的。\n",
    "\n",
    "第一个方法使用``set_motors`` 方法。例如，要沿着左拱转动一秒钟，可以将左电机设为30%，右电机设为60%，如下所示."
   ]
  },
  {
   "cell_type": "code",
   "execution_count": null,
   "metadata": {},
   "outputs": [],
   "source": [
    "robot.set_motors(0.3, 0.6)\n",
    "time.sleep(1.0)\n",
    "robot.stop()"
   ]
  },
  {
   "cell_type": "markdown",
   "metadata": {},
   "source": [
    "非常好! 你应该看到机器人沿着左拱移动,是吧！。实际上，还有另一种方法可以完成同样的任务。\n',
    "\n",
    "``Robot`` 类有两个称为 ``left_motor`` 与 ``right_motor`` 的属性，分别代表两个独立的电机.\n",
    "这些属性属于 ``Motor`` 类实例（class instances）, 每一个都包括 ``value`` 属性. 这个``value`` 属性\n",
    "是一种能在给定新值（new vakue）时生成``events``的[traitlet](https://github.com/ipython/traitlets).  In the motor\n",
    "我们在 motor 类里添加一个函数（function），一旦value改变的时候就会更新 motor 的指令.\n",
    "\n",
    "为了完成上面所做的同样的事情，我们可以执行下面的操作："
   ]
  },
  {
   "cell_type": "code",
   "execution_count": null,
   "metadata": {},
   "outputs": [],
   "source": [
    "robot.left_motor.value = 0.3\n",
    "robot.right_motor.value = 0.6\n",
    "time.sleep(1.0)\n",
    "robot.left_motor.value = 0.0\n",
    "robot.right_motor.value = 0.0"
   ]
  },
  {
   "cell_type": "markdown",
   "metadata": {},
   "source": [
    "你会看到小车用相同的方法进行移动!"
   ]
  },
  {
   "cell_type": "markdown",
   "metadata": {},
   "source": [
    "### Link motors to traitlets"
   ]
  },
  {
   "cell_type": "markdown",
   "metadata": {},
   "source": [
    "A really cool feature about these [traitlets](https://github.com/ipython/traitlets) is that we can \n",
    "also link them to other traitlets!  This is super handy because Jupyter Notebooks allow us\n",
    "to make graphical ``widgets`` that use traitlets under the hood.  This means we can attach\n",
    "our motors to ``widgets`` to control them from the browser, or just visualize the value.\n",
    "\n",
    "To show how to do this, let's create and display two sliders that we'll use to control our motors."
   ]
  },
  {
   "cell_type": "code",
   "execution_count": null,
   "metadata": {},
   "outputs": [],
   "source": [
    "import ipywidgets.widgets as widgets\n",
    "from IPython.display import display\n",
    "\n",
    "# create two sliders with range [-1.0, 1.0]\n",
    "left_slider = widgets.FloatSlider(description='left', min=-1.0, max=1.0, step=0.01, orientation='vertical')\n",
    "right_slider = widgets.FloatSlider(description='right', min=-1.0, max=1.0, step=0.01, orientation='vertical')\n",
    "\n",
    "# create a horizontal box container to place the sliders next to eachother\n",
    "slider_container = widgets.HBox([left_slider, right_slider])\n",
    "\n",
    "# display the container in this cell's output\n",
    "display(slider_container)"
   ]
  },
  {
   "cell_type": "markdown",
   "metadata": {},
   "source": [
    "You should see two ``vertical`` sliders displayed above. \n",
    "\n",
    "> HELPFUL TIP:  In Jupyter Lab, you can actually \"pop\" the output of cells into entirely separate window!  It will still be \n",
    "> connected to the notebook, but displayed separately.  This is helpful if we want to pin the output of code we executed elsewhere.\n",
    "> To do this, right click the output of the cell and select ``Create New View for Output``.  You can then drag the new window\n",
    "> to a location you find pleasing.\n",
    "\n",
    "Try clicking and dragging the sliders up and down.  Notice nothing happens when we move the sliders currently.  That's because we haven't connected them to motors yet!  We'll do that by using the ``link`` function from the traitlets package."
   ]
  },
  {
   "cell_type": "code",
   "execution_count": null,
   "metadata": {},
   "outputs": [],
   "source": [
    "import traitlets\n",
    "\n",
    "left_link = traitlets.link((left_slider, 'value'), (robot.left_motor, 'value'))\n",
    "right_link = traitlets.link((right_slider, 'value'), (robot.right_motor, 'value'))"
   ]
  },
  {
   "cell_type": "markdown",
   "metadata": {},
   "source": [
    "Now try dragging the sliders (slowly at first).  You should see the respective motor turn!\n",
    "\n",
    "The ``link`` function that we created above actually creates a bi-directional link!  That means,\n",
    "if we set the motor values elsewhere, the sliders will update!  Try executing the code block below"
   ]
  },
  {
   "cell_type": "code",
   "execution_count": null,
   "metadata": {},
   "outputs": [],
   "source": [
    "robot.forward(0.3)\n",
    "time.sleep(1.0)\n",
    "robot.stop()"
   ]
  },
  {
   "cell_type": "markdown",
   "metadata": {},
   "source": [
    "You should see the sliders respond to the motor commands!  If we want to remove this connection we can call the\n",
    "``unlink`` method of each link."
   ]
  },
  {
   "cell_type": "code",
   "execution_count": null,
   "metadata": {},
   "outputs": [],
   "source": [
    "left_link.unlink()\n",
    "right_link.unlink()"
   ]
  },
  {
   "cell_type": "markdown",
   "metadata": {},
   "source": [
    "But what if we don't want a *bi-directional* link, let's say we only want to use the sliders to display the motor values,\n",
    "but not control them.  For that we can use the ``dlink`` function.  The left input is the ``source`` and the right input is the ``target``"
   ]
  },
  {
   "cell_type": "code",
   "execution_count": null,
   "metadata": {},
   "outputs": [],
   "source": [
    "left_link = traitlets.dlink((robot.left_motor, 'value'), (left_slider, 'value'))\n",
    "right_link = traitlets.dlink((robot.right_motor, 'value'), (right_slider, 'value'))"
   ]
  },
  {
   "cell_type": "markdown",
   "metadata": {},
   "source": [
    "Now try moving the sliders.  You should see that the robot doesn't respond.  But when set the motors using a different method,\n",
    "the sliders will update and display the value!"
   ]
  },
  {
   "cell_type": "markdown",
   "metadata": {},
   "source": [
    "### Attach functions to events"
   ]
  },
  {
   "cell_type": "markdown",
   "metadata": {},
   "source": [
    "Another way to use traitlets, is by attaching functions (like ``forward``) to events.  These\n",
    "functions will get called whenever a change to the object occurs, and will be passed some information about that change\n",
    "like the ``old`` value and the ``new`` value.  \n",
    "\n",
    "Let's create and display some buttons that we'll use to control the robot."
   ]
  },
  {
   "cell_type": "code",
   "execution_count": null,
   "metadata": {},
   "outputs": [],
   "source": [
    "# create buttons\n",
    "button_layout = widgets.Layout(width='100px', height='80px', align_self='center')\n",
    "stop_button = widgets.Button(description='stop', button_style='danger', layout=button_layout)\n",
    "forward_button = widgets.Button(description='forward', layout=button_layout)\n",
    "backward_button = widgets.Button(description='backward', layout=button_layout)\n",
    "left_button = widgets.Button(description='left', layout=button_layout)\n",
    "right_button = widgets.Button(description='right', layout=button_layout)\n",
    "\n",
    "# display buttons\n",
    "middle_box = widgets.HBox([left_button, stop_button, right_button], layout=widgets.Layout(align_self='center'))\n",
    "controls_box = widgets.VBox([forward_button, middle_box, backward_button])\n",
    "display(controls_box)"
   ]
  },
  {
   "cell_type": "markdown",
   "metadata": {},
   "source": [
    "You should see a set of robot controls displayed above!  But right now they wont do anything.  To do that\n",
    "we'll need to create some functions that we'll attach to the button's ``on_click`` event.  "
   ]
  },
  {
   "cell_type": "code",
   "execution_count": null,
   "metadata": {},
   "outputs": [],
   "source": [
    "def stop(change):\n",
    "    robot.stop()\n",
    "    \n",
    "def step_forward(change):\n",
    "    robot.forward(0.4)\n",
    "    time.sleep(0.5)\n",
    "    robot.stop()\n",
    "\n",
    "def step_backward(change):\n",
    "    robot.backward(0.4)\n",
    "    time.sleep(0.5)\n",
    "    robot.stop()\n",
    "\n",
    "def step_left(change):\n",
    "    robot.left(0.3)\n",
    "    time.sleep(0.5)\n",
    "    robot.stop()\n",
    "\n",
    "def step_right(change):\n",
    "    robot.right(0.3)\n",
    "    time.sleep(0.5)\n",
    "    robot.stop()"
   ]
  },
  {
   "cell_type": "markdown",
   "metadata": {},
   "source": [
    "Now that we've defined the functions, let's attach them to the on-click events of each button"
   ]
  },
  {
   "cell_type": "code",
   "execution_count": null,
   "metadata": {},
   "outputs": [],
   "source": [
    "# link buttons to actions\n",
    "stop_button.on_click(stop)\n",
    "forward_button.on_click(step_forward)\n",
    "backward_button.on_click(step_backward)\n",
    "left_button.on_click(step_left)\n",
    "right_button.on_click(step_right)"
   ]
  },
  {
   "cell_type": "markdown",
   "metadata": {},
   "source": [
    "Now when you click each button, you should see the robot move!"
   ]
  },
  {
   "cell_type": "markdown",
   "metadata": {},
   "source": [
    "### Heartbeat Killswitch\n",
    "\n",
    "Here we show how to connect a 'heartbeat' to stop the robot from moving.  This is a simple way to detect if the robot connection is alive.  You can lower the slider below to reduce the period (in seconds) of the heartbeat.  If a round-trip communication between broswer cannot be made within two heartbeats, the '`status`' attribute of the heartbeat will be set ``dead``.  As soon as the connection is restored, the ``status`` attribute will return to ``alive``."
   ]
  },
  {
   "cell_type": "code",
   "execution_count": null,
   "metadata": {},
   "outputs": [],
   "source": [
    "from jetbot import Heartbeat\n",
    "\n",
    "heartbeat = Heartbeat()\n",
    "\n",
    "# this function will be called when heartbeat 'alive' status changes\n",
    "def handle_heartbeat_status(change):\n",
    "    if change['new'] == Heartbeat.Status.dead:\n",
    "        robot.stop()\n",
    "        \n",
    "heartbeat.observe(handle_heartbeat_status, names='status')\n",
    "\n",
    "period_slider = widgets.FloatSlider(description='period', min=0.001, max=0.5, step=0.01, value=0.5)\n",
    "traitlets.dlink((period_slider, 'value'), (heartbeat, 'period'))\n",
    "\n",
    "display(period_slider, heartbeat.pulseout)"
   ]
  },
  {
   "cell_type": "markdown",
   "metadata": {},
   "source": [
    "Try executing the code below to start the motors, and then lower the slider to see what happens.  You can also try disconnecting your robot or PC."
   ]
  },
  {
   "cell_type": "code",
   "execution_count": null,
   "metadata": {},
   "outputs": [],
   "source": [
    "robot.left(0.2) \n",
    "\n",
    "# now lower the `period` slider above until the network heartbeat can't be satisfied"
   ]
  },
  {
   "cell_type": "markdown",
   "metadata": {},
   "source": [
    "### Conclusion\n",
    "\n",
    "That's it for this example notebook!  Hopefully you feel confident that you can program your robot to move around now :)"
   ]
  }
 ],
 "metadata": {
  "kernelspec": {
   "display_name": "Python 3",
   "language": "python",
   "name": "python3"
  },
  "language_info": {
   "codemirror_mode": {
    "name": "ipython",
    "version": 3
   },
   "file_extension": ".py",
   "mimetype": "text/x-python",
   "name": "python",
   "nbconvert_exporter": "python",
   "pygments_lexer": "ipython3",
   "version": "3.6.7"
  }
 },
 "nbformat": 4,
 "nbformat_minor": 2
}
