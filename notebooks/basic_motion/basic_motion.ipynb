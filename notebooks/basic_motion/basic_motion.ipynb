{
 "cells": [
  {
   "cell_type": "markdown",
   "metadata": {},
   "source": [
    "# Basic Motion\n",
    "\n",
    "欢迎使用JetBot基于浏览器的编程界面！此文档称为Jupyter Notebooks，它将文本、代码和图形显示结合在一起！漂亮整洁，是吧？\n",
    "如果您不熟悉Jupyter，我们建议单击顶部工具栏中的``“Help帮助`` 下拉菜单。这对使用 *Jupyter* 编程有很有用的参考。\n",
    "\n",
    "在本Notebook中，我们将介绍控制JetBot的基本知识。\n",
    "\n",
    "### 导入 Robot class\n",
    "\n",
    "要开始编程JetBot，我们需要导入 ``Robot`` 类。这个包含在``jetbot``套件里的class，能让我们能很容易地控制小车的电机。\n",
    "\n",
    "> 如果你是 Python 新手，这个 *套件（package）* 实际上就是一个包含代码文档（code files）的目录，这些代码文档被称作 *模组（modules）*。\n",
    "\n",
    "导入``Robot`` class后，会凸显（highlight）下面的执行格（cell），然后按下``ctrl + enter`` 或上方的``play``图标，就能执行单元格里面的代码。"
   ]
  },
  {
   "cell_type": "code",
   "execution_count": null,
   "metadata": {},
   "outputs": [],
   "source": [
    "from jetbot import Robot"
   ]
  },
  {
   "cell_type": "markdown",
   "metadata": {},
   "source": [
    "现在我们已经载入``Robot``类，接着可以执行下一步来启动这个类的 *实例（instance）*"
   ]
  },
  {
   "cell_type": "code",
   "execution_count": null,
   "metadata": {},
   "outputs": [],
   "source": [
    "robot = Robot()"
   ]
  },
  {
   "cell_type": "markdown",
   "metadata": {},
   "source": [
    "### 对小车下指令\n",
    "现在我们已经建立名为 **\"robot\"** 的 ``Robot``实例，接着就可以使用这个实例来控制小车。现在准备执行下一步骤，让小车以全速的30%速度进行逆时针旋转\n",
    "> 注意: 下一个指令会让小车开始移动，请确保有足够空间！\""
   ]
  },
  {
   "cell_type": "code",
   "execution_count": null,
   "metadata": {},
   "outputs": [],
   "source": [
    "robot.left(speed=0.3)"
   ]
  },
  {
   "cell_type": "markdown",
   "metadata": {},
   "source": [
    "酷吧！ 看到小车逆时针旋转了！\n",
    "\n",
    "> 如果你的小车没有正确转动的话，表示轮子上的电机可能有错误的接线! **请关闭电源，然后调整电机的接线！**\n",
    ">\n",
    "> 记住：始终小心检查接线，并且**别在开机状态下更换接线！**\n",
    "\n",
    "好了，接着要使用``stop``方法（method）来让小车停止动作。\""
   ]
  },
  {
   "cell_type": "code",
   "execution_count": null,
   "metadata": {},
   "outputs": [],
   "source": [
    "robot.stop()"
   ]
  },
  {
   "cell_type": "markdown",
   "metadata": {},
   "source": [
    "有时，我们只需要让小车执行某个时间段的动作，这时候我们就需要 Python 的``time`` 套件（package）。"
   ]
  },
  {
   "cell_type": "code",
   "execution_count": null,
   "metadata": {},
   "outputs": [],
   "source": [
    "import time"
   ]
  },
  {
   "cell_type": "markdown",
   "metadata": {},
   "source": [
    "这个套件提供一个 ``sleep`` 功能, 能让代码执行以秒为单位的特定时间段，然后再继续执行下一个指令。\n",
    "\n",
    "试试下一段组合指令，让小车向左转 0.5 秒！"
   ]
  },
  {
   "cell_type": "code",
   "execution_count": null,
   "metadata": {},
   "outputs": [],
   "source": [
    "robot.left(0.3)\n",
    "time.sleep(0.5)\n",
    "robot.stop()"
   ]
  },
  {
   "cell_type": "markdown",
   "metadata": {},
   "source": [
    "棒极了！你会看到小车原地左旋转了一会儿，然后停止。\n",
    "> 想知道在 ``left`` 方法（method）里面的 ``speed=`` 是做什么用的吗？\n",
    ">\n",
    "> Python 允许我们根据函数参数的名称或定义顺序（不指定名称）来设置函数参数\n",
    "\n",
    "在 ``BasicJetbot`` 类中还有 ``right``, ``forward``, and ``backwards`` 等方法（method）。\n",
    "试试自己建立命令格，让小车以50%速度向前移动一秒钟。\n",
    "\n",
    "建立新的命令格，只要在现在执行的格子上按下``b键`` 或顶端的 ``+`` 图标，执行后就可以在格子里输入让小车以50%速度向前移动一秒的代码。\""
   ]
  },
  {
   "cell_type": "markdown",
   "metadata": {},
   "source": [
    "### 单独控制每一个电机\n",
    "\n",
    "上面我们看到了如何使用``left``、``right``这些命令来控制小车，但是如果我们想个别设置每个电机的速度呢？这里提供两种方法可以实现你的目的。\n",
    "\n",
    "第一个方法使用``set_motors`` 方法。例如，要沿着左拱转动一秒钟，可以将左电机设为30%，右电机设为60%，如下所示.\""
   ]
  },
  {
   "cell_type": "code",
   "execution_count": null,
   "metadata": {},
   "outputs": [],
   "source": [
    "robot.set_motors(0.3, 0.6)\n",
    "time.sleep(1.0)\n",
    "robot.stop()"
   ]
  },
  {
   "cell_type": "markdown",
   "metadata": {},
   "source": [
    "非常好! 你应该看到机器人沿着左拱移动,是吧！。实际上，还有另一种方法可以完成同样的任务。\n",
    "\n",
    "``Robot`` 类有两个称为 ``left_motor`` 与 ``right_motor`` 的属性，分别代表两个独立的电机。\n",
    "这些属性属于 ``Motor`` 类实例（class instances）, 每一个都包括 ``value`` 属性。\n",
    "\n",
    "这个``value`` 属性是一种能在给定新值（new value）时生成``events``的[traitlet](https://github.com/ipython/traitlets)。\n",
    "我们在 motor 类里添加一个函数（function），一旦 value 改变的时候就会更新 motor 的执行命令。\n",
    "\n",
    "执行下面的操作可以完成与上面相同的动作。\""
   ]
  },
  {
   "cell_type": "code",
   "execution_count": null,
   "metadata": {},
   "outputs": [],
   "source": [
    "robot.left_motor.value = 0.3\n",
    "robot.right_motor.value = 0.6\n",
    "time.sleep(1.0)\n",
    "robot.left_motor.value = 0.0\n",
    "robot.right_motor.value = 0.0"
   ]
  },
  {
   "cell_type": "markdown",
   "metadata": {},
   "source": [
    "你会看到小车用相同的方式在移动!"
   ]
  },
  {
   "cell_type": "markdown",
   "metadata": {},
   "source": [
    "### 将电机与 traitlets 形成连接"
   ]
  },
  {
   "cell_type": "markdown",
   "metadata": {},
   "source": [
    "这些 [traitlets](https://github.com/ipython/traitlets) 有个非常酷的功能，就是可以让 traitlets 之间形成连接！\n",
    "这是非常方便的一个特性，因为 Jyputer Noteboots 允许我们在图形 ``widgets`` 背后，与 traitlets 挂钩。\n",
    "\n",
    "也就是说，我们可以将的电机附加到 “widgets” 上，以便从浏览器中控制它们，或者只是可视化地查看电机的值。\n",
    "\n",
    "接下去我们为演示如何做到这一点！让我们创建并显示两个滑块，然后使用它们来控制电机。"
   ]
  },
  {
   "cell_type": "code",
   "execution_count": null,
   "metadata": {},
   "outputs": [],
   "source": [
    "import ipywidgets.widgets as widgets\n",
    "from IPython.display import display\n",
    "\n",
    "# 创建两个垂直滑块，值在 [-1.0, 1.0] 之间\n",
    "left_slider = widgets.FloatSlider(description='left', min=-1.0, max=1.0, step=0.01, orientation='vertical')\n",
    "right_slider = widgets.FloatSlider(description='right', min=-1.0, max=1.0, step=0.01, orientation='vertical')\n",
    "\n",
    "# 创建一个横向的容器来放置两个滑块\n",
    "slider_container = widgets.HBox([left_slider, right_slider])\n",
    "\n",
    "# 在这个执行格的输出端显示这个容器\n",
    "display(slider_container)"
   ]
  },
  {
   "cell_type": "markdown",
   "metadata": {},
   "source": [
    "你应该会看到上面出现两个 ``垂直（vertical）`` 滑块。\n",
    "\n",
    "> 有用提示：在Jupyter Lab中，您可以将单元格的输出 ``弹出`` 到完全独立的窗口中！\n",
    "> 它仍将连接到笔记本，但单独显示。如果我们想固定在其他地方执行的代码的输出，这很有帮助。\n",
    ">\n",
    "> 为此，右键单击单元格的输出并选择“为输出创建新视图”。然后，您可以将新窗口拖动到您认为满意的位置。\n",
    "\n",
    "尝试单击并上下拖动滑块。请注意，当前移动滑块时不会发生任何事情。那是因为我们还没有把它们连接到电机上！\n",
    "我们将使用traitlets包中的“link”函数来实现这连接。\\n\""
   ]
  },
  {
   "cell_type": "code",
   "execution_count": 1,
   "metadata": {},
   "outputs": [
    {
     "ename": "NameError",
     "evalue": "name 'left_slider' is not defined",
     "output_type": "error",
     "traceback": [
      "\u001b[0;31m---------------------------------------------------------------------------\u001b[0m",
      "\u001b[0;31mNameError\u001b[0m                                 Traceback (most recent call last)",
      "\u001b[0;32m<ipython-input-1-80ac1e9f0747>\u001b[0m in \u001b[0;36m<module>\u001b[0;34m\u001b[0m\n\u001b[1;32m      1\u001b[0m \u001b[0;32mimport\u001b[0m \u001b[0mtraitlets\u001b[0m\u001b[0;34m\u001b[0m\u001b[0;34m\u001b[0m\u001b[0m\n\u001b[1;32m      2\u001b[0m \u001b[0;34m\u001b[0m\u001b[0m\n\u001b[0;32m----> 3\u001b[0;31m \u001b[0mleft_link\u001b[0m \u001b[0;34m=\u001b[0m \u001b[0mtraitlets\u001b[0m\u001b[0;34m.\u001b[0m\u001b[0mlink\u001b[0m\u001b[0;34m(\u001b[0m\u001b[0;34m(\u001b[0m\u001b[0mleft_slider\u001b[0m\u001b[0;34m,\u001b[0m \u001b[0;34m'value'\u001b[0m\u001b[0;34m)\u001b[0m\u001b[0;34m,\u001b[0m \u001b[0;34m(\u001b[0m\u001b[0mrobot\u001b[0m\u001b[0;34m.\u001b[0m\u001b[0mleft_motor\u001b[0m\u001b[0;34m,\u001b[0m \u001b[0;34m'value'\u001b[0m\u001b[0;34m)\u001b[0m\u001b[0;34m)\u001b[0m\u001b[0;34m\u001b[0m\u001b[0;34m\u001b[0m\u001b[0m\n\u001b[0m\u001b[1;32m      4\u001b[0m \u001b[0mright_link\u001b[0m \u001b[0;34m=\u001b[0m \u001b[0mtraitlets\u001b[0m\u001b[0;34m.\u001b[0m\u001b[0mlink\u001b[0m\u001b[0;34m(\u001b[0m\u001b[0;34m(\u001b[0m\u001b[0mright_slider\u001b[0m\u001b[0;34m,\u001b[0m \u001b[0;34m'value'\u001b[0m\u001b[0;34m)\u001b[0m\u001b[0;34m,\u001b[0m \u001b[0;34m(\u001b[0m\u001b[0mrobot\u001b[0m\u001b[0;34m.\u001b[0m\u001b[0mright_motor\u001b[0m\u001b[0;34m,\u001b[0m \u001b[0;34m'value'\u001b[0m\u001b[0;34m)\u001b[0m\u001b[0;34m)\u001b[0m\u001b[0;34m\u001b[0m\u001b[0;34m\u001b[0m\u001b[0m\n",
      "\u001b[0;31mNameError\u001b[0m: name 'left_slider' is not defined"
     ]
    }
   ],
   "source": [
    "import traitlets\n",
    "\n",
    "left_link = traitlets.link((left_slider, 'value'), (robot.left_motor, 'value'))\n",
    "right_link = traitlets.link((right_slider, 'value'), (robot.right_motor, 'value'))"
   ]
  },
  {
   "cell_type": "markdown",
   "metadata": {},
   "source": [
    "现在尝试拖动滑块（开始时要缓慢）。你应该看到各自的马达转动！\n",
    "\n",
    "我们在上面创建的 ``link`` 函数实际上创建了一个双向链接！也就是说，如果我们在其他地方设置马达值，滑块将更新！尝试执行下面的代码块"
   ]
  },
  {
   "cell_type": "code",
   "execution_count": null,
   "metadata": {},
   "outputs": [],
   "source": [
    "robot.forward(0.3)\n",
    "time.sleep(1.0)\n",
    "robot.stop()"
   ]
  },
  {
   "cell_type": "markdown",
   "metadata": {},
   "source": [
    "你应该看到滑块响应马达指令！\n",
    "\n",
    "如果要删除此连接，可以对每一个连接调用``unlink``方法。"
   ]
  },
  {
   "cell_type": "code",
   "execution_count": null,
   "metadata": {},
   "outputs": [],
   "source": [
    "left_link.unlink()\n",
    "right_link.unlink()"
   ]
  },
  {
   "cell_type": "markdown",
   "metadata": {},
   "source": [
    "如果我们不想要一个双向链接：假设我们只想使用滑块来显示马达值，但不能控制他们。\n",
    "\n",
    "这里可以使用 ``dlink`` 函数。左边的输入是 ``source`` ，右边的输入是 ``target``"
   ]
  },
  {
   "cell_type": "code",
   "execution_count": null,
   "metadata": {},
   "outputs": [],
   "source": [
    "left_link = traitlets.dlink((robot.left_motor, 'value'), (left_slider, 'value'))\n",
    "right_link = traitlets.dlink((robot.right_motor, 'value'), (right_slider, 'value'))"
   ]
  },
  {
   "cell_type": "markdown",
   "metadata": {},
   "source": [
    "现在试着移动滑块，你应该看到机器人没有反应。但是当用不同的方法设置马达时，滑块将更新并显示值！"
   ]
  },
  {
   "cell_type": "markdown",
   "metadata": {},
   "source": [
    "### 将函数附加到事件"
   ]
  },
  {
   "cell_type": "markdown",
   "metadata": {},
   "source": [
    "使用 **traitlets** 的另一种方法是将函数（如``forward``）附加到事件。\n",
    "\n",
    "每当对象发生更改时，将调用这些函数，并将传递有关该更改的一些信息，如旧（``old``)值和新(``new``）\n",
    "\n",
    "接下来创建并显示一些按钮，用于控制小车。"
   ]
  },
  {
   "cell_type": "code",
   "execution_count": null,
   "metadata": {},
   "outputs": [],
   "source": [
    "# 创建按钮\n",
    "button_layout = widgets.Layout(width='100px', height='80px', align_self='center')\n",
    "stop_button = widgets.Button(description='stop', button_style='danger', layout=button_layout)\n",
    "forward_button = widgets.Button(description='forward', layout=button_layout)\n",
    "backward_button = widgets.Button(description='backward', layout=button_layout)\n",
    "left_button = widgets.Button(description='left', layout=button_layout)\n",
    "right_button = widgets.Button(description='right', layout=button_layout)\n",
    "\n",
    "# 显示按钮\n",
    "middle_box = widgets.HBox([left_button, stop_button, right_button], layout=widgets.Layout(align_self='center'))\n",
    "controls_box = widgets.VBox([forward_button, middle_box, backward_button])\n",
    "display(controls_box)"
   ]
  },
  {
   "cell_type": "markdown",
   "metadata": {},
   "source": [
    "你应该看到上面显示的一组小车控件！但现在他们什么也不会做。\n",
    "接着需要创建一些函数，将这些函数附加到按钮的``on-click``事件。"
   ]
  },
  {
   "cell_type": "code",
   "execution_count": null,
   "metadata": {},
   "outputs": [],
   "source": [
    "def stop(change):\n",
    "    robot.stop()\n",
    "    \n",
    "def step_forward(change):\n",
    "    robot.forward(0.4)\n",
    "    time.sleep(0.5)\n",
    "    robot.stop()\n",
    "\n",
    "def step_backward(change):\n",
    "    robot.backward(0.4)\n",
    "    time.sleep(0.5)\n",
    "    robot.stop()\n",
    "\n",
    "def step_left(change):\n",
    "    robot.left(0.3)\n",
    "    time.sleep(0.5)\n",
    "    robot.stop()\n",
    "\n",
    "def step_right(change):\n",
    "    robot.right(0.3)\n",
    "    time.sleep(0.5)\n",
    "    robot.stop()"
   ]
  },
  {
   "cell_type": "markdown",
   "metadata": {},
   "source": [
    "上面定义了函数，然后附加到每个按钮的单击事件上"
   ]
  },
  {
   "cell_type": "code",
   "execution_count": null,
   "metadata": {},
   "outputs": [],
   "source": [
    "# link buttons to actions\n",
    "stop_button.on_click(stop)\n",
    "forward_button.on_click(step_forward)\n",
    "backward_button.on_click(step_backward)\n",
    "left_button.on_click(step_left)\n",
    "right_button.on_click(step_right)"
   ]
  },
  {
   "cell_type": "markdown",
   "metadata": {},
   "source": [
    "现在，当你点击每个按钮，你应该看到机器人移动！"
   ]
  },
  {
   "cell_type": "markdown",
   "metadata": {},
   "source": [
    "### 心跳开关\n",
    "\n",
    "这里我们展示如何连接一个“心跳”来阻止小车继续移动。这是一种检测与小车的连接是否存在的简单方法。\n",
    "\n",
    "可以降低下面的滑块以缩短心跳周期（以秒为单位）。如果broswer之间的往返通信无法在两个心跳中进行，则心跳的``status``属性将设置为``dead``。一旦连接恢复``status``属性将返回到'`alive`'。"
   ]
  },
  {
   "cell_type": "code",
   "execution_count": null,
   "metadata": {},
   "outputs": [],
   "source": [
    "from jetbot import Heartbeat\n",
    "\n",
    "heartbeat = Heartbeat()\n",
    "\n",
    "#  当心跳 “alive” 状态更改时，将调用此函数\n",
    "def handle_heartbeat_status(change):\n",
    "    if change['new'] == Heartbeat.Status.dead:\n",
    "        robot.stop()\n",
    "        \n",
    "heartbeat.observe(handle_heartbeat_status, names='status')\n",
    "\n",
    "period_slider = widgets.FloatSlider(description='period', min=0.001, max=0.5, step=0.01, value=0.5)\n",
    "traitlets.dlink((period_slider, 'value'), (heartbeat, 'period'))\n",
    "\n",
    "display(period_slider, heartbeat.pulseout)"
   ]
  },
  {
   "cell_type": "markdown",
   "metadata": {},
   "source": [
    "尝试执行下面的代码来启动马达，然后降低滑块以查看发生了什么。你也可以尝试断开你的机器人或电脑。"
   ]
  },
  {
   "cell_type": "code",
   "execution_count": null,
   "metadata": {},
   "outputs": [],
   "source": [
    "robot.left(0.2) "
   ]
  },
  {
   "cell_type": "markdown",
   "metadata": {},
   "source": [
    "现在请降低上面的 ``period`` 滑块，直到无法满足网络心跳（dead状态）"
   ]
  },
  {
   "cell_type": "markdown",
   "metadata": {},
   "source": [
    "### 结论\n",
    "这就是这个 Notebook 的例子！现在可以编程你的小车让它四处移动：）"
   ]
  },
  {
   "cell_type": "code",
   "execution_count": null,
   "metadata": {},
   "outputs": [],
   "source": []
  }
 ],
 "metadata": {
  "kernelspec": {
   "display_name": "Python 3",
   "language": "python",
   "name": "python3"
  },
  "language_info": {
   "codemirror_mode": {
    "name": "ipython",
    "version": 3
   },
   "file_extension": ".py",
   "mimetype": "text/x-python",
   "name": "python",
   "nbconvert_exporter": "python",
   "pygments_lexer": "ipython3",
   "version": "3.7.4"
  }
 },
 "nbformat": 4,
 "nbformat_minor": 4
}
